{
  "nbformat": 4,
  "nbformat_minor": 0,
  "metadata": {
    "colab": {
      "name": "Untitled0.ipynb",
      "provenance": [],
      "collapsed_sections": [],
      "authorship_tag": "ABX9TyNtwNOROhBQxDS9wriTyPpA",
      "include_colab_link": true
    },
    "kernelspec": {
      "name": "python3",
      "display_name": "Python 3"
    }
  },
  "cells": [
    {
      "cell_type": "markdown",
      "metadata": {
        "id": "view-in-github",
        "colab_type": "text"
      },
      "source": [
        "<a href=\"https://colab.research.google.com/github/joaquinrangelj/Curso_python_2021/blob/main/Untitled0.ipynb\" target=\"_parent\"><img src=\"https://colab.research.google.com/assets/colab-badge.svg\" alt=\"Open In Colab\"/></a>"
      ]
    },
    {
      "cell_type": "code",
      "metadata": {
        "colab": {
          "base_uri": "https://localhost:8080/"
        },
        "id": "GnRVwVKY2vR5",
        "outputId": "b99bd72c-55b9-4671-c333-deef6b2d0acc"
      },
      "source": [
        "#creando la variable\r\n",
        "Mensaje=\"Hola\"\r\n",
        "\r\n",
        "#Imprimiendo la variable\r\n",
        "print(Mensaje)\r\n",
        "\r\n",
        "\r\n",
        "print(\"\\t¿Cómo estás?\\n \\t\\t Estoy bien\")"
      ],
      "execution_count": 5,
      "outputs": [
        {
          "output_type": "stream",
          "text": [
            "Hola\n",
            "\t¿Cómo estás?\n",
            " \t\t Estoy bien\n"
          ],
          "name": "stdout"
        }
      ]
    },
    {
      "cell_type": "code",
      "metadata": {
        "colab": {
          "base_uri": "https://localhost:8080/"
        },
        "id": "9lNyT6X8_K4o",
        "outputId": "d0099884-85d4-4ce6-d1b0-cf20194f2d0f"
      },
      "source": [
        "#Concatenación de Cadenas\r\n",
        "M_1=\"estoy\"\r\n",
        "m_2=\" dando\"\r\n",
        "m3=\" una clase\"\r\n",
        "MT=M_1+m_2+m3\r\n",
        "print(MT)\r\n",
        "\r\n"
      ],
      "execution_count": 6,
      "outputs": [
        {
          "output_type": "stream",
          "text": [
            "estoy dando una clase\n"
          ],
          "name": "stdout"
        }
      ]
    },
    {
      "cell_type": "code",
      "metadata": {
        "colab": {
          "base_uri": "https://localhost:8080/"
        },
        "id": "DSL36VcBAfmT",
        "outputId": "7d3063fb-2943-494c-881f-4d2a410b7f78"
      },
      "source": [
        "#nombre\r\n",
        "nombre=input(\"¿Cuál es tu nombre? \")\r\n",
        "#solicitando con mensaje\r\n",
        "apellido1=input(\"¿Cuál es tu primer apellido? \")\r\n",
        "apellido2=input(\"¿Cuál es tu segundo apellido? \")\r\n",
        "\r\n",
        "edad=input(\"¿Qué edad tienes?\")\r\n",
        "print(\"Hola\", nombre, apellido1, apellido2, \"enhora buena por tus \", edad, \"años\")"
      ],
      "execution_count": 7,
      "outputs": [
        {
          "output_type": "stream",
          "text": [
            "¿Cuál es tu nombre? Joaquín\n",
            "¿Cuál es tu primer apellido? Rangel\n",
            "¿Cuál es tu segundo apellido? Jiménez\n",
            "¿Qué edad tienes?\n",
            "Hola Joaquín Rangel Jiménez enhora buena por tus   años\n"
          ],
          "name": "stdout"
        }
      ]
    }
  ]
}